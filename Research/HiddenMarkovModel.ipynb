{
 "cells": [
  {
   "cell_type": "markdown",
   "id": "242c87bc",
   "metadata": {},
   "source": [
    "# Research to Production\n",
    "## Hidden Markov Model\n",
    "---------\n",
    "### Introduction\n",
    "This notebook explains how to you can use the Research Environment to develop and test a Hidden Markov Model hypothesis, then put the hypothesis in production.\n",
    "\n",
    "<a href=\"https://www.quantconnect.com/docs/v2/research-environment/tutorials/research-to-production/hidden-markov-model\">Documentation</a>\n",
    "\n",
    "### Create Hypothesis\n",
    "A Markov process is a stochastic process where the possibility of switching to another state depends only on the current state of the model by the current state's probability distribution (it is usually represented by a state transition matrix). It is history-independent, or memoryless. While often a Markov process's state is observable, the states of a Hidden Markov Model (HMM) is not observable. This means the input(s) and output(s) are observable, but their intermediate, the state, is non-observable/hidden.\n",
    "\n",
    "<img src=\"https://cdn.quantconnect.com/i/tu/hmm-model.png\">\n",
    "<p>A 3-state HMM example, where S are the hidden states, O are the observable states and a are the probabilities of state transition.\n",
    "<br/><i>Image source: Modeling Strategic Use of Human Computer Interfaces with Novel Hidden Markov Models. L. J. Mariano, et. al. (2015). Frontiers in Psychology 6:919. DOI:10.3389/fpsyg.2015.00919</i></p>\n",
    "\n",
    "In finance, HMM is particularly useful in determining the market regime, usually classified into \"Bull\" and \"Bear\" markets. Another popular classification is \"Volatile\" vs \"Involatile\" market, such that we can avoid entering the market when it is too risky. We hypothesis a HMM could be able to do the later, so we can produce a SPY-out-performing portfolio (positive alpha)."
   ]
  },
  {
   "cell_type": "markdown",
   "id": "e8b63dc8",
   "metadata": {},
   "source": [
    "### Import Libraries\n",
    "We'll need to import packages to help with data processing, validation and visualization. Import statsmodels, scipy, numpy, matplotlib and pandas packages by the following:"
   ]
  },
  {
   "cell_type": "code",
   "execution_count": null,
   "id": "088fb87d",
   "metadata": {},
   "outputs": [],
   "source": [
    "from statsmodels.tsa.regime_switching.markov_regression import MarkovRegression\n",
    "from scipy.stats import multivariate_normal\n",
    "import numpy as np\n",
    "\n",
    "from matplotlib import pyplot as plt\n",
    "from pandas.plotting import register_matplotlib_converters\n",
    "register_matplotlib_converters()"
   ]
  },
  {
   "cell_type": "code",
   "execution_count": null,
   "id": "93971bab",
   "metadata": {},
   "outputs": [],
   "source": [
    "# Instantiate a QuantBook.\n",
    "qb = QuantBook()\n",
    "\n",
    "# Select the desired tickers for research.\n",
    "asset = \"SPX\"\n",
    "\n",
    "# Call the AddIndex method with the tickers, and its corresponding resolution. Then store their Symbols. Resolution.Minute is used by default. \n",
    "qb.AddIndex(asset, Resolution.Minute)\n",
    "\n",
    "# Call the History method with qb.Securities.Keys for all tickers, time argument(s), and resolution to request historical data for the symbol.\n",
    "history = qb.History(qb.Securities.Keys, datetime(2019, 1, 1), datetime(2021, 12, 31), Resolution.Daily)\n",
    "history"
   ]
  },
  {
   "cell_type": "code",
   "execution_count": null,
   "id": "9309403e",
   "metadata": {},
   "outputs": [],
   "source": []
  },
  {
   "cell_type": "markdown",
   "id": "d4b77d1d",
   "metadata": {},
   "source": [
    "### Preparing Data\n",
    "We'll have to process our data to get the volatility of the market for classification."
   ]
  },
  {
   "cell_type": "code",
   "execution_count": null,
   "id": "a1a047d4",
   "metadata": {},
   "outputs": [],
   "source": [
    "# Get the close price daily return.\n",
    "close = history['close'].unstack(level=0)\n",
    "\n",
    "# Call pct_change to obtain the daily return\n",
    "returns = close.pct_change().iloc[1:]\n",
    "\n",
    "# Initialize the HMM, then fit by the daily return data. Note that we're using varinace as switching regime, so switching_variance is set as True.\n",
    "model = MarkovRegression(returns, k_regimes=2, switching_variance=True).fit()\n",
    "display(model.summary())"
   ]
  },
  {
   "cell_type": "markdown",
   "id": "4bd5b66a",
   "metadata": {},
   "source": [
    "All p-values of the regime self-transition coefficients and the regime transition probability matrix's coefficient is < 0.05, indicating the model should be able to classify the data into 2 different volatility regimes."
   ]
  },
  {
   "cell_type": "markdown",
   "id": "40eac48c",
   "metadata": {},
   "source": [
    "### Test the Hypothesis\n",
    "We now verify if the model can detect high and low volatility period effectively."
   ]
  },
  {
   "cell_type": "code",
   "execution_count": null,
   "id": "faff36cc",
   "metadata": {},
   "outputs": [],
   "source": [
    "# Get the regime as a column, 1 as Low Variance Regime, 2 as High Variance Regime.\n",
    "regime = pd.Series(model.smoothed_marginal_probabilities.values.argmax(axis=1)+1, \n",
    "                      index=returns.index, name='regime')\n",
    "df_1 = close.loc[returns.index][regime == 1]\n",
    "df_2 = close.loc[returns.index][regime == 2]\n",
    "\n",
    "# Get the mean and covariance matrix of the 2 regimes, assume 0 covariance between the two.\n",
    "mean = np.array([returns.loc[df_1.index].mean(), returns.loc[df_2.index].mean()])\n",
    "cov = np.array([[returns.loc[df_1.index].var(), 0], [0, returns.loc[df_2.index].var()]])\n",
    "\n",
    "# Fit a 2-dimensional multivariate normal distribution by the 2 means and covriance matrix.\n",
    "dist = multivariate_normal(mean=mean.flatten(), cov=cov)\n",
    "mean_1, mean_2 = mean[0], mean[1]\n",
    "sigma_1, sigma_2 = cov[0,0], cov[1,1]\n",
    "\n",
    "# Get the normal distribution of each of the distribution.\n",
    "x = np.linspace(-0.05, 0.05, num=100)\n",
    "y = np.linspace(-0.05, 0.05, num=100)\n",
    "X, Y = np.meshgrid(x,y)\n",
    "pdf = np.zeros(X.shape)\n",
    "for i in range(X.shape[0]):\n",
    "    for j in range(X.shape[1]):\n",
    "        pdf[i,j] = dist.pdf([X[i,j], Y[i,j]])\n",
    "\n",
    "# Plot the probability of data in different regimes.\n",
    "fig, axes = plt.subplots(2, figsize=(15, 10))\n",
    "ax = axes[0]\n",
    "ax.plot(model.smoothed_marginal_probabilities[0])\n",
    "ax.set(title='Smoothed probability of Low Variance Regime')\n",
    "ax = axes[1]\n",
    "ax.plot(model.smoothed_marginal_probabilities[1])\n",
    "ax.set(title='Smoothed probability of High Variance Regime')\n",
    "fig.tight_layout()\n",
    "plt.show()"
   ]
  },
  {
   "cell_type": "code",
   "execution_count": null,
   "id": "c66e649e",
   "metadata": {},
   "outputs": [],
   "source": [
    "# Plot the series into regime-wise.\n",
    "df_1.index = pd.to_datetime(df_1.index)\n",
    "df_1 = df_1.sort_index()\n",
    "df_2.index = pd.to_datetime(df_2.index)\n",
    "df_2 = df_2.sort_index()\n",
    "plt.figure(figsize=(15, 10))\n",
    "plt.scatter(df_1.index, df_1, color='blue', label=\"Low Variance Regime\")\n",
    "plt.scatter(df_2.index, df_2, color='red', label=\"High Variance Regime\")\n",
    "plt.title(\"Price series\")\n",
    "plt.ylabel(\"Price ($)\")\n",
    "plt.xlabel(\"Date\")\n",
    "plt.legend()\n",
    "plt.show()"
   ]
  },
  {
   "cell_type": "code",
   "execution_count": null,
   "id": "4fd330f2",
   "metadata": {},
   "outputs": [],
   "source": [
    "# Plot the distribution surface.\n",
    "fig = plt.figure(figsize=(20, 10))\n",
    "ax = fig.add_subplot(122, projection = '3d')\n",
    "ax.plot_surface(X, Y, pdf, cmap = 'viridis')\n",
    "ax.axes.zaxis.set_ticks([])\n",
    "plt.xlabel(\"Low Volatility Regime\")\n",
    "plt.ylabel(\"High Volatility Regime\")\n",
    "plt.title('Bivariate normal distribution of the Regimes')\n",
    "plt.tight_layout()\n",
    "plt.show()"
   ]
  },
  {
   "cell_type": "code",
   "execution_count": null,
   "id": "ede6d07e",
   "metadata": {},
   "outputs": [],
   "source": [
    "# plot the contour\n",
    "plt.figure(figsize=(12, 8))\n",
    "plt.contourf(X, Y, pdf, cmap = 'viridis')\n",
    "plt.xlabel(\"Low Volatility Regime\")\n",
    "plt.ylabel(\"High Volatility Regime\")\n",
    "plt.title('Bivariate normal distribution of the Regimes')\n",
    "plt.tight_layout()\n",
    "plt.show()"
   ]
  }
 ],
 "metadata": {
  "kernelspec": {
   "display_name": "Python 3 (ipykernel)",
   "language": "python",
   "name": "python3"
  },
  "language_info": {
   "codemirror_mode": {
    "name": "ipython",
    "version": 3
   },
   "file_extension": ".py",
   "mimetype": "text/x-python",
   "name": "python",
   "nbconvert_exporter": "python",
   "pygments_lexer": "ipython3",
   "version": "3.10.2"
  }
 },
 "nbformat": 4,
 "nbformat_minor": 5
}
