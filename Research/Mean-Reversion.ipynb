{
 "cells": [
  {
   "cell_type": "markdown",
   "id": "83bc6ad6",
   "metadata": {},
   "source": [
    "![QuantConnect Logo](https://cdn.quantconnect.com/web/i/icon.png)\n",
    "<hr>"
   ]
  },
  {
   "cell_type": "markdown",
   "id": "da29dfb4",
   "metadata": {},
   "source": [
    "### Mean Reversion"
   ]
  },
  {
   "cell_type": "code",
   "execution_count": null,
   "id": "73a9e457",
   "metadata": {},
   "outputs": [],
   "source": [
    "# QuantBook Analysis Tool \n",
    "# For more information see [https://www.quantconnect.com/docs/research/overview]\n",
    "import numpy as np\n",
    "qb = QuantBook()\n",
    "\n",
    "symbols = {}\n",
    "assets = [\"SHY\", \"TLT\", \"SHV\", \"TLH\", \"EDV\", \"BIL\",\n",
    "                  \"SPTL\", \"TBT\", \"TMF\", \"TMV\", \"TBF\", \"VGSH\", \"VGIT\",\n",
    "                  \"VGLT\", \"SCHO\", \"SCHR\", \"SPTS\", \"GOVT\"]\n",
    "\n",
    "for i in range(len(assets)):\n",
    "    symbols[assets[i]] = qb.AddEquity(assets[i],Resolution.Minute).Symbol\n",
    "\n",
    "# Fetch history on our universe\n",
    "df = qb.History(qb.Securities.Keys, 30, Resolution.Daily)\n",
    "# Make all of them into a single time index.\n",
    "df = df.close.unstack(level=0)\n",
    "# Calculate the truth value of the most recent price being less than 1 std away from the mean\n",
    "classifier = df.le(df.mean().subtract(df.std())).tail(1)\n",
    "# Get indexes of the True values\n",
    "classifier_indexes = np.where(classifier)[1]\n",
    "# Get the Symbols for the True values\n",
    "classifier = classifier.transpose().iloc[classifier_indexes].index.values\n",
    "# Get the std values for the True values (used for Insight magnitude)\n",
    "magnitude = df.std().transpose()[classifier_indexes].values\n",
    "# Zip together to iterate over later\n",
    "selected = zip(classifier, magnitude)\n",
    "\n",
    "for x, y in selected:\n",
    "    print(f'Symbol: {x}, Magnitude: {y}')"
   ]
  }
 ],
 "metadata": {
  "kernelspec": {
   "display_name": "Python 3 (ipykernel)",
   "language": "python",
   "name": "python3"
  },
  "language_info": {
   "codemirror_mode": {
    "name": "ipython",
    "version": 3
   },
   "file_extension": ".py",
   "mimetype": "text/x-python",
   "name": "python",
   "nbconvert_exporter": "python",
   "pygments_lexer": "ipython3",
   "version": "3.10.2"
  }
 },
 "nbformat": 4,
 "nbformat_minor": 5
}
