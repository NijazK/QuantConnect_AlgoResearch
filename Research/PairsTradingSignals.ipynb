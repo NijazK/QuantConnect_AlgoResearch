{
 "cells": [
  {
   "cell_type": "markdown",
   "id": "f41c7d20",
   "metadata": {},
   "source": [
    "![QuantConnect Logo](https://cdn.quantconnect.com/web/i/icon.png)\n",
    "<hr>"
   ]
  },
  {
   "cell_type": "markdown",
   "id": "12274e73",
   "metadata": {},
   "source": [
    "### Pairs Trading Quantitative Trading\n",
    "\n",
    "Pairs trading is a market neutral trading strategy and it belongs to statistical arbitrage. The basic idea is to select two stocks which move similarly, sell the high priced stock and buy the low priced stock where there is a price divergence between the pairs."
   ]
  },
  {
   "cell_type": "code",
   "execution_count": null,
   "id": "029a45de",
   "metadata": {},
   "outputs": [],
   "source": [
    "%matplotlib inline\n",
    "# Imports\n",
    "from clr import AddReference\n",
    "from datetime import datetime, timedelta\n",
    "import matplotlib.pyplot as plt\n",
    "import pandas as pd\n",
    "# Create an instance\n",
    "qb = QuantBook()"
   ]
  },
  {
   "cell_type": "code",
   "execution_count": null,
   "id": "b0014f67",
   "metadata": {},
   "outputs": [],
   "source": [
    "import matplotlib.pyplot as plt\n",
    "import matplotlib.cm as cm\n",
    "import numpy as np\n",
    "import pandas as pd\n",
    "import statsmodels.api as sm\n",
    "from math import floor\n",
    "plt.style.use('seaborn-whitegrid')\n",
    "from sklearn import linear_model"
   ]
  },
  {
   "cell_type": "code",
   "execution_count": null,
   "id": "245a43e7",
   "metadata": {},
   "outputs": [],
   "source": [
    "syls = [\"KO\", \"PEP\"]\n",
    "qb.AddEquity(syls[0])\n",
    "qb.AddEquity(syls[1])\n",
    "start = datetime(2017,1,1)\n",
    "end = datetime(2022,1,1)\n",
    "x = qb.History([syls[0]],start ,end, Resolution.Daily).loc[syls[0]]['close']\n",
    "y = qb.History([syls[1]],start ,end, Resolution.Daily).loc[syls[1]]['close']"
   ]
  },
  {
   "cell_type": "code",
   "execution_count": null,
   "id": "db921662",
   "metadata": {},
   "outputs": [],
   "source": [
    "syls = [\"XOM\", \"CVX\"]\n",
    "qb.AddEquity(syls[0])\n",
    "qb.AddEquity(syls[1])\n",
    "start = datetime(2017,1,1)\n",
    "end = datetime(2022,1,1)\n",
    "x = qb.History([syls[0]],start ,end, Resolution.Daily).loc[syls[0]]['close']\n",
    "y = qb.History([syls[1]],start ,end, Resolution.Daily).loc[syls[1]]['close']"
   ]
  },
  {
   "cell_type": "code",
   "execution_count": null,
   "id": "96816b93",
   "metadata": {},
   "outputs": [],
   "source": [
    "price.plot(figsize = (15,10))"
   ]
  },
  {
   "cell_type": "markdown",
   "id": "b8df1ead",
   "metadata": {},
   "source": [
    "### Estimates\n",
    "If we have two stocks, X & Y, that are cointegrated in their price movements, then any divergence in the spread from 0 should be temporary and mean-reverting. Next step we will estimate the spread series."
   ]
  },
  {
   "cell_type": "code",
   "execution_count": null,
   "id": "529409e2",
   "metadata": {},
   "outputs": [],
   "source": [
    "def reg(x,y):\n",
    "    regr = linear_model.LinearRegression()\n",
    "    x_constant = pd.concat([x,pd.Series([1]*len(x),index = x.index)], axis=1)\n",
    "    regr.fit(x_constant, y)    \n",
    "    beta = regr.coef_[0]\n",
    "    alpha = regr.intercept_\n",
    "    spread = y - x*beta - alpha\n",
    "    return spread"
   ]
  },
  {
   "cell_type": "code",
   "execution_count": null,
   "id": "af191144",
   "metadata": {},
   "outputs": [],
   "source": [
    "x = lp['XOM']\n",
    "y = lp['CVX']\n",
    "spread = reg(x,y)\n",
    "# plot the spread series\n",
    "spread.plot(figsize =(15,10))\n",
    "plt.ylabel('spread')"
   ]
  },
  {
   "cell_type": "markdown",
   "id": "f343b954",
   "metadata": {},
   "source": [
    "### Step 3: Check Stationarity\n",
    "From the above plot, the first order difference \n",
    "seems to be stationary and mean-reverting. Next we will check if it is stationary. We use the ADF test to check the stationarity of the spread series."
   ]
  },
  {
   "cell_type": "code",
   "execution_count": null,
   "id": "64da02f9",
   "metadata": {},
   "outputs": [],
   "source": [
    "# check if the spread is stationary \n",
    "adf = sm.tsa.stattools.adfuller(spread, maxlag=1)\n",
    "print('ADF test statistic: %.02f' % adf[0])\n",
    "for key, value in adf[4].items():\n",
    "    print('\\t%s: %.3f' % (key, value))\n",
    "print('p-value: %.03f' % adf[1])"
   ]
  }
 ],
 "metadata": {
  "kernelspec": {
   "display_name": "Python 3 (ipykernel)",
   "language": "python",
   "name": "python3"
  },
  "language_info": {
   "codemirror_mode": {
    "name": "ipython",
    "version": 3
   },
   "file_extension": ".py",
   "mimetype": "text/x-python",
   "name": "python",
   "nbconvert_exporter": "python",
   "pygments_lexer": "ipython3",
   "version": "3.10.2"
  }
 },
 "nbformat": 4,
 "nbformat_minor": 5
}
