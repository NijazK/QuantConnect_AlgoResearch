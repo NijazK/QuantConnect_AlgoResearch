{
 "cells": [
  {
   "cell_type": "markdown",
   "id": "953449e6",
   "metadata": {},
   "source": [
    "![QuantConnect Logo](https://cdn.quantconnect.com/web/i/icon.png)\n",
    "<hr>"
   ]
  },
  {
   "cell_type": "markdown",
   "id": "d430d21c",
   "metadata": {},
   "source": [
    "### Uncorrelated Assets\n",
    "Finding uncorrelated assets allows you to find a portfolio that will, theoretically, be more diversified and resilient to extreme market events. When combined with other indicators and data sources, this can be an important component in building an algorithm that limits drawdown and remains profitable in choppy markets.\n",
    "\n",
    "The first step is to execute the cell containing our correlation function and then grab the historical data for the securities and use this to fetch returns data."
   ]
  },
  {
   "cell_type": "code",
   "execution_count": null,
   "id": "1e7c3ea1",
   "metadata": {},
   "outputs": [],
   "source": [
    "# This cell is the function we use to get correlation ranks\n",
    "def GetUncorrelatedAssets(returns, num_assets):\n",
    "    # Get correlation\n",
    "    correlation = returns.corr()\n",
    "    \n",
    "    # Find assets with lowest mean correlation, scaled by STD\n",
    "    selected = []\n",
    "    for index, row in correlation.iteritems():\n",
    "        corr_rank = row.abs().mean()/row.abs().std()\n",
    "        selected.append((index, corr_rank))\n",
    "\n",
    "    # Sort and take the top num_assets\n",
    "    selected = sorted(selected, key = lambda x: x[1])[:num_assets]\n",
    "    \n",
    "    return selected"
   ]
  },
  {
   "cell_type": "code",
   "execution_count": null,
   "id": "3c3c274c",
   "metadata": {},
   "outputs": [],
   "source": [
    "# Import custom functions\n",
    "qb = QuantBook()\n",
    "\n",
    "tickers = [\"SQQQ\", \"TQQQ\", \"TVIX\", \"VIXY\", \"SPLV\",\n",
    "           \"SVXY\", \"UVXY\", \"EEMV\", \"EFAV\", \"USMV\"]\n",
    "symbols = [qb.AddEquity(x, Resolution.Minute) for x in tickers]\n",
    "\n",
    "# Fetch history\n",
    "history = qb.History(qb.Securities.Keys, 150, Resolution.Hour)\n",
    "\n",
    "# Get hourly returns\n",
    "returns = history.unstack(level = 1).close.transpose().pct_change().dropna()"
   ]
  },
  {
   "cell_type": "markdown",
   "id": "a5ba9faf",
   "metadata": {},
   "source": [
    "Then, we calculate the correlation of the returns, which gives us a correlation matrix. In the GetUncorrelatedAssets function, we figure out which symbols have the lowest overall correlation with the rest of the symbols as a whole -- we want to find the five assets with the lowest average absolute correlation so that we can trade them without fearing that any pair are too highly correlated"
   ]
  },
  {
   "cell_type": "code",
   "execution_count": null,
   "id": "9961a0a7",
   "metadata": {},
   "outputs": [],
   "source": [
    "# Get 5 assets with least overall correlation\n",
    "selected = GetUncorrelatedAssets(returns, 5)\n",
    "selected"
   ]
  }
 ],
 "metadata": {
  "kernelspec": {
   "display_name": "Python 3 (ipykernel)",
   "language": "python",
   "name": "python3"
  },
  "language_info": {
   "codemirror_mode": {
    "name": "ipython",
    "version": 3
   },
   "file_extension": ".py",
   "mimetype": "text/x-python",
   "name": "python",
   "nbconvert_exporter": "python",
   "pygments_lexer": "ipython3",
   "version": "3.10.2"
  }
 },
 "nbformat": 4,
 "nbformat_minor": 5
}
