{
 "cells": [
  {
   "cell_type": "markdown",
   "id": "c73f3abb",
   "metadata": {},
   "source": [
    "![QuantConnect Logo](https://cdn.quantconnect.com/web/i/icon.png)\n",
    "<hr>"
   ]
  },
  {
   "cell_type": "markdown",
   "id": "5f7af3cb",
   "metadata": {},
   "source": [
    "### Using Pharmaceutical News to Measure Valuation Gaps and Impact\n",
    "#### Using keywords and phrases, lets build a model for which we measure when a new vaccine or drug gets accepted or rejected by the FDA. y-axis will be the rejections and x-axis will be the acceptance words. \n",
    "\n",
    "#### This notebook aims to plot instances of acceptances and rejections in the news relating to drug pharameceuticals and FDA compliance. The model follows closely several months of the covid vaccine of getting the drug ultimately accepted. "
   ]
  },
  {
   "cell_type": "code",
   "execution_count": null,
   "id": "831eb172",
   "metadata": {},
   "outputs": [],
   "source": [
    "from QuantConnect.Data.Custom.Tiingo import *\n",
    "import pandas as pd\n",
    "import numpy as np\n",
    "import scipy\n",
    "\n",
    "from datetime import datetime, timedelta\n",
    "qb = QuantBook()"
   ]
  },
  {
   "cell_type": "code",
   "execution_count": null,
   "id": "32cd9976",
   "metadata": {},
   "outputs": [],
   "source": [
    "# Assets to analyze for sentiment\n",
    "sp500 = [\"IHE\", \"AMPH\", \"SIGA\", \"LNTH\", \"EMBC\" \"ORGO\", \"OGN\", \"PFE\"]"
   ]
  },
  {
   "cell_type": "code",
   "execution_count": null,
   "id": "78db8ad0",
   "metadata": {},
   "outputs": [],
   "source": [
    "# Words for sentiment scoring  \n",
    "acceptance_words = [\"acceptance\", \"cooperation\", \"acknowledgment\", \"approval\", \"acquiring\", \"admission\", \"compliance\"]\n",
    "rejection_words = [\"rejection\", \"dismissal\", \"veto\", \"exclusion\", \"elimination\", \"rebuff\", \"failure\", \"error\"]"
   ]
  },
  {
   "cell_type": "code",
   "execution_count": null,
   "id": "063d8521",
   "metadata": {},
   "outputs": [],
   "source": [
    "def count_instances(master, article):\n",
    "    count = 0\n",
    "    for w in article:\n",
    "        if w in master:\n",
    "            count = count + 1\n",
    "    return count"
   ]
  },
  {
   "cell_type": "code",
   "execution_count": null,
   "id": "52510081",
   "metadata": {},
   "outputs": [],
   "source": [
    "# Extract history and get word count of rejection and acceptance words, per day, per ticker\n",
    "acceptance_word_sums = []\n",
    "rejection_word_sums = []\n",
    "tickers_not_in_data = []\n",
    "# Note: This takes 45 minutes to run\n",
    "for ticker in sp500:\n",
    "    symbol = qb.AddEquity(ticker).Symbol\n",
    "    news = qb.AddData(TiingoNews, symbol).Symbol\n",
    "    history = qb.History(TiingoNews, news, timedelta(days=127), Resolution.Daily)\n",
    "    try:\n",
    "        description = history.reset_index(level=0)['description']\n",
    "        acceptance_word_count = description.apply(lambda x: count_instances(acceptance_words, x.split(' ')))\n",
    "        acceptance_word_count_daily = acceptance_word_count.resample('D').sum()\n",
    "        acceptance_word_sums.append(acceptance_word_count_daily)\n",
    "        rejection_word_count = description.apply(lambda x: count_instances(rejection_words, x.split(' ')))\n",
    "        rejection_word_count_daily = rejection_word_count.resample('D').sum()\n",
    "        rejection_word_sums.append(rejection_word_count_daily)    \n",
    "    except:\n",
    "        tickers_not_in_data.append(ticker)\n",
    "        continue"
   ]
  },
  {
   "cell_type": "code",
   "execution_count": null,
   "id": "d7343712",
   "metadata": {},
   "outputs": [],
   "source": [
    "import pickle \n",
    "# Speed up iterative analysis by pickling the history call\n",
    "acceptance_word_sums_pickle = pickle.dumps(acceptance_word_sums)\n",
    "rejection_word_sums_pickle = pickle.dumps(rejection_word_sums)\n",
    "tickers_not_in_data_pickle = pickle.dumps(tickers_not_in_data)\n",
    "\n",
    "# Load pickled history to avoid calling data again\n",
    "# acceptance_word_sums = pickle.loads(acceptance_word_sums_pickle) \n",
    "# rejection_word_sums = pickle.Loads(rejection_word_sums_pickle)\n",
    "# tickers_not_in_data = pickle.Loads(tickers_not_in_data_pickle)"
   ]
  },
  {
   "cell_type": "code",
   "execution_count": null,
   "id": "9baec3ec",
   "metadata": {},
   "outputs": [],
   "source": [
    "\n",
    "# Get the sum of acceptance words per day for all tickers\n",
    "acceptance_data = []\n",
    "for item in acceptance_word_sums:\n",
    "    acceptance_data.append(item)\n",
    "acceptance_data = pd.concat(acceptance_data)\n",
    "acceptance = acceptance_data.groupby(level=0, axis=0).sum()"
   ]
  },
  {
   "cell_type": "code",
   "execution_count": null,
   "id": "740f2839",
   "metadata": {},
   "outputs": [],
   "source": [
    "\n",
    "rejection_data = []\n",
    "for item in rejection_word_sums:\n",
    "    rejecton_data.append(item)\n",
    "rejection_data = pd.concat(rejection_data)\n",
    "rejection = rejection_data.groupby(level=0, axis=0).sum()"
   ]
  },
  {
   "cell_type": "code",
   "execution_count": null,
   "id": "ea69b6ed",
   "metadata": {},
   "outputs": [],
   "source": [
    "\n",
    "# Rename the columns to \"acceptance\" & \"rejection\" because they're both currently called \"description\" \n",
    "acceptance = acceptance.rename(\"acceptance\")\n",
    "rejection = rejection.rename(\"rejection\")\n",
    "df = pd.concat([acceptance, rejection], axis=1)\n",
    "time = df.index.to_series()\n",
    "df = pd.concat([time, acceptance, rejection], axis=1)"
   ]
  },
  {
   "cell_type": "code",
   "execution_count": null,
   "id": "ea424dec",
   "metadata": {},
   "outputs": [],
   "source": [
    "\n",
    "# Transform into percentage from absolute numbers\n",
    "df['total'] = df['acceptance'] + df['rejection']\n",
    "df['pct_acceptance'] = (df['acceptance']/ df['total']).round(2)\n",
    "df['pct_rejection'] = (df['rejection']/ df['total']).round(2)\n",
    "# Drop incomplete data\n",
    "df = df[:-2]"
   ]
  },
  {
   "cell_type": "code",
   "execution_count": null,
   "id": "36a8d428",
   "metadata": {},
   "outputs": [],
   "source": [
    "\n",
    "import plotly.graph_objs as go\n",
    "from plotly.offline import download_plotlyjs, init_notebook_mode, plot, iplot\n",
    "\n",
    "trace1 = go.Scatter(x=df.time,\n",
    "                    y=df.pct_acceptance,\n",
    "                    name = \"Acceptance in the News\",\n",
    "                    line = {'color':'rgb(138, 185, 211)'})\n",
    "\n",
    "trace2 = go.Scatter(x=df.time,\n",
    "                    y=df.pct_rejection,\n",
    "                    name = \"Rejection in the News\",\n",
    "                    line = {'color': 'rgb(237, 193, 218)'})\n",
    "\n",
    "layout = {'title':'S&P500 Pharamceutical News Valuation Gaps', 'plot_bgcolor' : 'rgb(248, 247, 247)' , 'yaxis': { 'tickformat': ',.0%', 'range': [0,1]}}\n",
    "\n",
    "fig = dict(data=[trace1, trace2], layout=layout)     \n",
    "\n",
    "iplot(fig)"
   ]
  }
 ],
 "metadata": {
  "kernelspec": {
   "display_name": "Python 3 (ipykernel)",
   "language": "python",
   "name": "python3"
  },
  "language_info": {
   "codemirror_mode": {
    "name": "ipython",
    "version": 3
   },
   "file_extension": ".py",
   "mimetype": "text/x-python",
   "name": "python",
   "nbconvert_exporter": "python",
   "pygments_lexer": "ipython3",
   "version": "3.10.2"
  }
 },
 "nbformat": 4,
 "nbformat_minor": 5
}
