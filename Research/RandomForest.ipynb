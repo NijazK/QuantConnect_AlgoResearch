{
 "cells": [
  {
   "cell_type": "markdown",
   "id": "ca4d6209",
   "metadata": {},
   "source": [
    "![QuantConnect Logo](https://cdn.quantconnect.com/web/i/icon.png)\n",
    "<hr>"
   ]
  },
  {
   "cell_type": "markdown",
   "id": "420f2afc",
   "metadata": {},
   "source": [
    "### Random Forest Regression\n",
    "\n",
    "For another installment of our \"mini-series\" of examples on how to move your work from the research environment and into production, we've shown how you can implement a basic random forest regression model using the sklearn RandomForestRegressor. Briefly, random forests is a supervised learning algorithm that we here use specifically for regression in order to identify important features of our dataset and create weights to build a tradeable portfolio.\n",
    "\n",
    "To start, we continue to use the US Treasuries ETF basket and get the historical data we want. We'll use the most recent 1000 hours of historical data to create our train / test data sets."
   ]
  },
  {
   "cell_type": "code",
   "execution_count": null,
   "id": "60e80576",
   "metadata": {},
   "outputs": [],
   "source": [
    "# QuantBook Analysis Tool \n",
    "# For more information see [https://www.quantconnect.com/docs/research/overview]\n",
    "from sklearn.ensemble import RandomForestRegressor\n",
    "from sklearn.model_selection import train_test_split\n",
    "qb = QuantBook()\n",
    "qb\n",
    "\n",
    "symbols = {}\n",
    "assets = [\"SHY\", \"TLT\", \"SHV\", \"TLH\", \"EDV\", \"BIL\",\n",
    "                  \"SPTL\", \"TBT\", \"TMF\", \"TMV\", \"TBF\", \"VGSH\", \"VGIT\",\n",
    "                  \"VGLT\", \"SCHO\", \"SCHR\", \"SPTS\", \"GOVT\"]\n",
    "\n",
    "for i in range(len(assets)):\n",
    "    symbols[assets[i]] = qb.AddEquity(assets[i],Resolution.Minute).Symbol\n",
    "\n",
    "#Copy Paste Region For Backtesting.\n",
    "#==========================================\n",
    "# Set up classifier\n",
    "# Initialize instance of Random Forest Regressor\n",
    "regressor = RandomForestRegressor(n_estimators=100, min_samples_split=5, random_state = 1990)\n",
    "\n",
    "# Fetch history on our universe\n",
    "df = qb.History(qb.Securities.Keys, 500, Resolution.Hour)\n",
    "\n",
    "# Get train/test data\n",
    "returns = df.unstack(level=1).close.transpose().pct_change().dropna()\n",
    "X = returns\n",
    "# use real portfolio value in algo: y = [x for x in qb.portfolioValue][-X.shape[0]:]\n",
    "y = np.random.normal(100000, 5, X.shape[0])\n",
    "X_train, X_test, y_train, y_test = train_test_split(X, y, test_size = 0.2, random_state = 1990)"
   ]
  },
  {
   "cell_type": "code",
   "execution_count": null,
   "id": "b0fe2d38",
   "metadata": {},
   "outputs": [],
   "source": [
    "# Fit regressor\n",
    "regressor.fit(X_train, y_train)\n",
    "\n",
    "# Get long-only predictions\n",
    "weights = regressor.feature_importances_\n",
    "symbols = returns.columns[np.where(weights)]\n",
    "selected = zip(symbols, weights)\n",
    "for x, y in selected:\n",
    "    print(f'Symbol: {x}, Weight: {y}')"
   ]
  }
 ],
 "metadata": {
  "kernelspec": {
   "display_name": "Python 3 (ipykernel)",
   "language": "python",
   "name": "python3"
  },
  "language_info": {
   "codemirror_mode": {
    "name": "ipython",
    "version": 3
   },
   "file_extension": ".py",
   "mimetype": "text/x-python",
   "name": "python",
   "nbconvert_exporter": "python",
   "pygments_lexer": "ipython3",
   "version": "3.10.2"
  }
 },
 "nbformat": 4,
 "nbformat_minor": 5
}
